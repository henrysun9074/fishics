{
 "cells": [
  {
   "cell_type": "code",
   "execution_count": null,
   "metadata": {},
   "outputs": [],
   "source": [
    "import xarray as xr\n",
    "import numpy as np\n",
    "\n",
    "# import hvplot.xarray\n",
    "import matplotlib.pyplot as plt\n",
    "import matplotlib.cm as cm\n",
    "import matplotlib\n",
    "# xroms is an augmented xarray to work with ROMS outputs\n",
    "import xroms\n",
    "# cmocean colormaps for oceanography. xcmocean for auto choice of colormap\n",
    "# import cmocean.cm as cmo\n",
    "# import xcmocean "
   ]
  },
  {
   "cell_type": "code",
   "execution_count": null,
   "metadata": {},
   "outputs": [],
   "source": [
    "num_time_chunks = 1  # Number of chunks along the 'time' dimension\n",
    "num_lat_chunks = 10  # Number of chunks along the 'lat' dimension\n",
    "num_lon_chunks = 10  # Number of chunks along the 'lon' dimension\n",
    "\n",
    "# Calculate the size of each chunk along each dimension\n",
    "# Assuming the dataset has dimensions in bytes (you may need to adjust)\n",
    "chunk_size_time = '100MB / {}'.format(num_time_chunks)\n",
    "chunk_size_lat = '100MB / {}'.format(num_lat_chunks)\n",
    "chunk_size_lon = '100MB / {}'.format(num_lon_chunks)\n",
    "\n",
    "# Create a dictionary with chunk sizes for each dimension\n",
    "chunk_sizes = {'time': chunk_size_time, 'lat': chunk_size_lat, 'lon': chunk_size_lon}"
   ]
  },
  {
   "cell_type": "code",
   "execution_count": null,
   "metadata": {},
   "outputs": [],
   "source": [
    "url = \"https://tds.marine.rutgers.edu/thredds/dodsC/roms/doppio/DopAnV3R3-ini2007_da/avg\"\n",
    "ds = xr.open_dataset(url, chunks=chunk_sizes )\n",
    "ds"
   ]
  },
  {
   "cell_type": "code",
   "execution_count": null,
   "metadata": {},
   "outputs": [],
   "source": [
    "#slice specific variables\n",
    "variables = ['temp','salt']\n",
    "ds_sub=ds[variables]\n",
    "ds_sub"
   ]
  },
  {
   "cell_type": "code",
   "execution_count": null,
   "metadata": {},
   "outputs": [],
   "source": [
    "subset = ds.sel(time = '2021-08-21', s_rho =0, method = 'nearest')\n",
    "subset\n"
   ]
  },
  {
   "cell_type": "code",
   "execution_count": null,
   "metadata": {},
   "outputs": [],
   "source": []
  }
 ],
 "metadata": {
  "kernelspec": {
   "display_name": "Python 3",
   "language": "python",
   "name": "python3"
  },
  "language_info": {
   "codemirror_mode": {
    "name": "ipython",
    "version": 3
   },
   "file_extension": ".py",
   "mimetype": "text/x-python",
   "name": "python",
   "nbconvert_exporter": "python",
   "pygments_lexer": "ipython3",
   "version": "3.9.12"
  }
 },
 "nbformat": 4,
 "nbformat_minor": 2
}
