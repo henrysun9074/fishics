{
 "cells": [
  {
   "cell_type": "code",
   "execution_count": 1,
   "metadata": {},
   "outputs": [
    {
     "name": "stdout",
     "output_type": "stream",
     "text": [
      "Encoded DNA Sequence Matrix:\n",
      "[[1.   0.   0.   0.  ]\n",
      " [0.   1.   0.   0.  ]\n",
      " [0.   0.   0.   1.  ]\n",
      " [0.   0.   1.   0.  ]\n",
      " [0.5  0.   0.   0.5 ]\n",
      " [0.   0.5  0.5  0.  ]\n",
      " [0.   0.5  0.5  0.  ]\n",
      " [0.25 0.25 0.25 0.25]\n",
      " [0.25 0.25 0.25 0.25]]\n"
     ]
    }
   ],
   "source": [
    "import numpy as np\n",
    "\n",
    "# Function to encode DNA sequence into probability distributions\n",
    "def encode_dna_sequence(dna_sequence):\n",
    "    # IUPAC nucleotide codes\n",
    "    nucleotide_codes = {\n",
    "        'A': [1, 0, 0, 0],\n",
    "        'T': [0, 1, 0, 0],\n",
    "        'C': [0, 0, 1, 0],\n",
    "        'G': [0, 0, 0, 1],\n",
    "        'W': [0.5, 0, 0, 0.5],  # A or T\n",
    "        'S': [0, 0.5, 0.5, 0],  # C or G\n",
    "        'N': [0.25, 0.25, 0.25, 0.25]  # Unknown base\n",
    "    }\n",
    "    \n",
    "    # Length of DNA sequence\n",
    "    sequence_length = len(dna_sequence)\n",
    "    \n",
    "    # Initialize matrix to store encoded sequence\n",
    "    encoded_matrix = np.zeros((sequence_length, 4))  # Assuming 4 dimensions (A, T, C, G)\n",
    "    \n",
    "    # Encode each nucleotide in the sequence\n",
    "    for i, base in enumerate(dna_sequence):\n",
    "        if base in nucleotide_codes:\n",
    "            encoded_matrix[i] = nucleotide_codes[base]\n",
    "        else:\n",
    "            encoded_matrix[i] = nucleotide_codes['N']  # Default to 'N' if unknown base\n",
    "    \n",
    "    return encoded_matrix\n",
    "\n",
    "# Example DNA sequence\n",
    "dna_sequence = \"ATGCWSSNN\"\n",
    "\n",
    "# Encode DNA sequence\n",
    "encoded_matrix = encode_dna_sequence(dna_sequence)\n",
    "\n",
    "# Print the encoded matrix\n",
    "print(\"Encoded DNA Sequence Matrix:\")\n",
    "print(encoded_matrix)\n"
   ]
  }
 ],
 "metadata": {
  "kernelspec": {
   "display_name": "Python 3",
   "language": "python",
   "name": "python3"
  },
  "language_info": {
   "codemirror_mode": {
    "name": "ipython",
    "version": 3
   },
   "file_extension": ".py",
   "mimetype": "text/x-python",
   "name": "python",
   "nbconvert_exporter": "python",
   "pygments_lexer": "ipython3",
   "version": "3.9.12"
  }
 },
 "nbformat": 4,
 "nbformat_minor": 2
}
