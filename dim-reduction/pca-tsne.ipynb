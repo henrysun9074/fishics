{
 "cells": [
  {
   "cell_type": "code",
   "execution_count": null,
   "metadata": {},
   "outputs": [],
   "source": [
    "import pandas as pd\n",
    "import numpy as np\n",
    "from sklearn.decomposition import PCA\n",
    "import matplotlib.pyplot as plt\n",
    "import seaborn as sns\n",
    "data = pd.read_csv(\"/Users/henrysun_1/Desktop/Duke/2024-2025/Summer 2024/fishics/data/data_for_henry_2024.csv\")\n",
    "data"
   ]
  },
  {
   "cell_type": "code",
   "execution_count": null,
   "metadata": {},
   "outputs": [],
   "source": [
    "# Extract the relevant columns for PCA (columns L to CH, which are the fish ASVs)\n",
    "fish_asvs = data.iloc[:, 11:]\n",
    "\n",
    "# Perform PCA\n",
    "pca = PCA(n_components=2)\n",
    "pca_result = pca.fit_transform(fish_asvs)\n",
    "\n",
    "# Add PCA results to the dataframe\n",
    "data['PCA1'] = pca_result[:, 0]\n",
    "data['PCA2'] = pca_result[:, 1]\n",
    "\n",
    "# color by date\n",
    "# plt.figure(figsize=(10, 8))\n",
    "# sns.scatterplot(x='PCA1', y='PCA2', data=data, hue='date', s=100, palette='tab10')\n",
    "# plt.title('PCA of Fish ASVs colored by date')\n",
    "# plt.xlabel('Principal Component 1')\n",
    "# plt.ylabel('Principal Component 2')\n",
    "# plt.legend(bbox_to_anchor=(1.05, 1), loc='upper left')\n",
    "# plt.grid(True)\n",
    "# plt.show()\n",
    "\n",
    "plt.figure(figsize=(10, 8))\n",
    "sns.scatterplot(x='PCA1', y='PCA2', data=data, hue='date', s=100, palette='tab10')\n",
    "\n",
    "# Annotate points with station numbers\n",
    "# for i, station in enumerate(data['station']):\n",
    "#     plt.annotate(station, (data['PCA1'].iloc[i], data['PCA2'].iloc[i]), fontsize=8, color='black', ha='right', va='bottom')\n",
    "\n",
    "plt.title('PCA of Fish ASVs colored by date')\n",
    "plt.xlabel('Principal Component 1')\n",
    "plt.ylabel('Principal Component 2')\n",
    "plt.legend(bbox_to_anchor=(1.05, 1), loc='upper left')\n",
    "plt.grid(True)\n",
    "plt.show()\n",
    "\n",
    "# Outlier station 6"
   ]
  },
  {
   "cell_type": "markdown",
   "metadata": {},
   "source": [
    "Station 6 is an outlier across both plots. Appears to be much more similar to data in the summer\n",
    "NorSeaRob 0.028368794\n",
    "Am_butterfish 0.822695035\n",
    "FourSpot Flounder 0.14893617"
   ]
  },
  {
   "cell_type": "code",
   "execution_count": null,
   "metadata": {},
   "outputs": [],
   "source": [
    "data\n",
    "selected_columns = data[['PCA1', 'PCA2', 'date']]\n",
    "selected_columns.to_csv('pca_latent_space.csv', index=False)\n"
   ]
  },
  {
   "cell_type": "code",
   "execution_count": null,
   "metadata": {},
   "outputs": [],
   "source": [
    "from sklearn.manifold import TSNE\n",
    "tsne = TSNE(n_components=2, random_state=30, perplexity=20, learning_rate=10, n_iter=1000) #test with diff perplexity\n",
    "tsne_result = tsne.fit_transform(fish_asvs)\n",
    "# Perform t-SNE\n",
    "\n",
    "# Add t-SNE results to the dataframe\n",
    "data['tSNE1'] = tsne_result[:, 0]\n",
    "data['tSNE2'] = tsne_result[:, 1]\n",
    "\n",
    "# plt.figure(figsize=(12, 8))\n",
    "# sns.scatterplot(x='tSNE1', y='tSNE2', data=data, hue='date', s=100, palette='tab10')\n",
    "# plt.title('t-SNE of Fish ASVs colored by Date')\n",
    "# plt.xlabel('t-SNE Component 1')\n",
    "# plt.ylabel('t-SNE Component 2')\n",
    "# plt.legend(bbox_to_anchor=(1.05, 1), loc='upper left')\n",
    "# plt.grid(True)\n",
    "# plt.show()\n",
    "\n",
    "\n",
    "plt.figure(figsize=(10, 8))\n",
    "sns.scatterplot(x='tSNE1', y='tSNE2', data=data, hue='date', s=100, palette='tab10')\n",
    "\n",
    "# Annotate points with station numbers\n",
    "# for i, station in enumerate(data['station']):\n",
    "#     plt.annotate(station, (data['tSNE1'].iloc[i], data['tSNE2'].iloc[i]), fontsize=8, color='black', ha='right', va='bottom')\n",
    "\n",
    "plt.title('tSNE of Fish ASVs colored by date')\n",
    "plt.xlabel('tSNE Component 1')\n",
    "plt.ylabel('tSNE Component 2')\n",
    "plt.legend(bbox_to_anchor=(1.05, 1), loc='upper left')\n",
    "plt.grid(True)\n",
    "plt.show()\n",
    "\n"
   ]
  },
  {
   "cell_type": "code",
   "execution_count": null,
   "metadata": {},
   "outputs": [],
   "source": [
    "data\n",
    "selected_columns = data[['tSNE1', 'tSNE2', 'date']]\n",
    "selected_columns.to_csv('tsne_latent_space.csv', index=False)\n"
   ]
  },
  {
   "cell_type": "code",
   "execution_count": null,
   "metadata": {},
   "outputs": [],
   "source": [
    "# Extract species columns\n",
    "columns_to_remove = ['PCA1', 'PCA2', 'tSNE1', 'tSNE2']\n",
    "save_data = data.drop(columns=columns_to_remove, errors='ignore')\n",
    "\n",
    "species_columns = save_data.columns[data.columns.get_loc(\"primers\") + 1:]\n",
    "\n",
    "# Convert relative abundance to presence/absence (1 if > 0, else 0)\n",
    "Data_presence = save_data[species_columns].applymap(lambda x: 1 if x > 0 else 0)\n",
    "\n",
    "# Export presence/absence data\n",
    "Data_presence.to_csv(\"presence_absence_data.csv\", index=False)\n"
   ]
  },
  {
   "cell_type": "markdown",
   "metadata": {},
   "source": [
    "## PCA Seasonal Analysis"
   ]
  },
  {
   "cell_type": "code",
   "execution_count": null,
   "metadata": {},
   "outputs": [],
   "source": [
    "\n",
    "#Winter\n",
    "winter_data = data.loc[data['sampling_bout']=='Feb_24']\n",
    "winter_fish_asvs = winter_data.iloc[:, 11:]\n",
    "winter_pca = PCA(n_components=2)\n",
    "winter_pca_result = winter_pca.fit_transform(winter_fish_asvs)\n",
    "winter_data['PCA1'] = winter_pca_result[:, 0]\n",
    "winter_data['PCA2'] = winter_pca_result[:, 1]\n",
    "\n",
    "spring_data = data.loc[data['sampling_bout']=='Jun_23']\n",
    "spring_fish_asvs = spring_data.iloc[:, 11:]\n",
    "spring_pca = PCA(n_components=2)\n",
    "spring_pca_result = spring_pca.fit_transform(spring_fish_asvs)\n",
    "spring_data['PCA1'] = spring_pca_result[:, 0]\n",
    "spring_data['PCA2'] = spring_pca_result[:, 1]\n",
    "\n",
    "summer_data = data.loc[data['sampling_bout']=='Aug_23']\n",
    "summer_fish_asvs = summer_data.iloc[:, 11:]\n",
    "summer_pca = PCA(n_components=2)\n",
    "summer_pca_result = summer_pca.fit_transform(summer_fish_asvs)\n",
    "summer_data['PCA1'] = summer_pca_result[:, 0]\n",
    "summer_data['PCA2'] = summer_pca_result[:, 1]\n"
   ]
  },
  {
   "cell_type": "code",
   "execution_count": null,
   "metadata": {},
   "outputs": [],
   "source": [
    "plt.figure(figsize=(10, 8))\n",
    "sns.scatterplot(x='PCA1', y='PCA2', data=winter_data, s=100, palette='tab10')\n",
    "\n",
    "# Annotate points with station numbers\n",
    "# for i, station in enumerate(data['station']):\n",
    "#     plt.annotate(station, (data['tSNE1'].iloc[i], data['tSNE2'].iloc[i]), fontsize=8, color='black', ha='right', va='bottom')\n",
    "\n",
    "plt.title('PCA of Winter Fish ASVs')\n",
    "plt.xlabel('PCA Component 1')\n",
    "plt.ylabel('tSNE Component 2')\n",
    "plt.legend(bbox_to_anchor=(1.05, 1), loc='upper left')\n",
    "plt.grid(True)\n",
    "plt.show()"
   ]
  },
  {
   "cell_type": "code",
   "execution_count": null,
   "metadata": {},
   "outputs": [],
   "source": [
    "plt.figure(figsize=(10, 8))\n",
    "sns.scatterplot(x='PCA1', y='PCA2', data=spring_data, s=100, palette='tab10')\n",
    "\n",
    "# Annotate points with station numbers\n",
    "# for i, station in enumerate(data['station']):\n",
    "#     plt.annotate(station, (data['tSNE1'].iloc[i], data['tSNE2'].iloc[i]), fontsize=8, color='black', ha='right', va='bottom')\n",
    "\n",
    "plt.title('PCA of Spring Fish ASVs')\n",
    "plt.xlabel('PCA Component 1')\n",
    "plt.ylabel('tSNE Component 2')\n",
    "plt.legend(bbox_to_anchor=(1.05, 1), loc='upper left')\n",
    "plt.grid(True)\n",
    "plt.show()"
   ]
  },
  {
   "cell_type": "code",
   "execution_count": null,
   "metadata": {},
   "outputs": [],
   "source": [
    "plt.figure(figsize=(10, 8))\n",
    "sns.scatterplot(x='PCA1', y='PCA2', data=summer_data, s=100, palette='tab10')\n",
    "\n",
    "# Annotate points with station numbers\n",
    "# for i, station in enumerate(data['station']):\n",
    "#     plt.annotate(station, (data['tSNE1'].iloc[i], data['tSNE2'].iloc[i]), fontsize=8, color='black', ha='right', va='bottom')\n",
    "\n",
    "plt.title('PCA of Summer Fish ASVs')\n",
    "plt.xlabel('PCA Component 1')\n",
    "plt.ylabel('tSNE Component 2')\n",
    "plt.legend(bbox_to_anchor=(1.05, 1), loc='upper left')\n",
    "plt.grid(True)\n",
    "plt.show()"
   ]
  },
  {
   "cell_type": "code",
   "execution_count": null,
   "metadata": {},
   "outputs": [],
   "source": [
    "# Save data\n",
    "winter_data\n",
    "w_selected_columns = winter_data[['PCA1', 'PCA2', 'date']]\n",
    "w_selected_columns.to_csv('winter_pca_latent_space.csv', index=False)\n",
    "\n",
    "spring_data\n",
    "sp_selected_columns = spring_data[['PCA1', 'PCA2', 'date']]\n",
    "sp_selected_columns.to_csv('spring_pca_latent_space.csv', index=False)\n",
    "\n",
    "summer_data\n",
    "su_selected_columns = summer_data[['PCA1', 'PCA2', 'date']]\n",
    "su_selected_columns.to_csv('summer_pca_latent_space.csv', index=False)\n"
   ]
  },
  {
   "cell_type": "markdown",
   "metadata": {},
   "source": [
    "## tSNE Seasonal Analysis"
   ]
  },
  {
   "cell_type": "code",
   "execution_count": null,
   "metadata": {},
   "outputs": [],
   "source": [
    "winter_tsne = TSNE(n_components=2, random_state=30, perplexity=20, learning_rate=10, n_iter=1000) #test with diff perplexity\n",
    "winter_tsne_result = winter_tsne.fit_transform(winter_fish_asvs)\n",
    "# Perform t-SNE\n",
    "winter_data['tSNE1'] = winter_tsne_result[:, 0]\n",
    "winter_data['tSNE2'] = winter_tsne_result[:, 1]\n",
    "winter_data\n",
    "\n",
    "spring_tsne = TSNE(n_components=2, random_state=30, perplexity=20, learning_rate=10, n_iter=1000) #test with diff perplexity\n",
    "spring_tsne_result = spring_tsne.fit_transform(spring_fish_asvs)\n",
    "# Perform t-SNE\n",
    "spring_data['tSNE1'] = spring_tsne_result[:, 0]\n",
    "spring_data['tSNE2'] = spring_tsne_result[:, 1]\n",
    "spring_data\n",
    "\n",
    "summer_tsne = TSNE(n_components=2, random_state=30, perplexity=20, learning_rate=10, n_iter=1000) #test with diff perplexity\n",
    "summer_tsne_result = summer_tsne.fit_transform(summer_fish_asvs)\n",
    "# Perform t-SNE\n",
    "summer_data['tSNE1'] = summer_tsne_result[:, 0]\n",
    "summer_data['tSNE2'] = summer_tsne_result[:, 1]\n",
    "summer_data\n"
   ]
  },
  {
   "cell_type": "code",
   "execution_count": null,
   "metadata": {},
   "outputs": [],
   "source": [
    "# plt.figure(figsize=(10, 8))\n",
    "# sns.scatterplot(x='tSNE1', y='tSNE2', data=winter_data, s=100, palette='tab10')\n",
    "# plt.title('PCA of Winter Fish ASVs')\n",
    "# plt.xlabel('PCA Component 1')\n",
    "# plt.ylabel('tSNE Component 2')\n",
    "# plt.legend(bbox_to_anchor=(1.05, 1), loc='upper left')\n",
    "# plt.grid(True)\n",
    "# plt.show()\n",
    "\n",
    "# plt.figure(figsize=(10, 8))\n",
    "# sns.scatterplot(x='tSNE1', y='tSNE2', data=spring_data, s=100, palette='tab10')\n",
    "# plt.title('PCA of Spring Fish ASVs')\n",
    "# plt.xlabel('PCA Component 1')\n",
    "# plt.ylabel('tSNE Component 2')\n",
    "# plt.legend(bbox_to_anchor=(1.05, 1), loc='upper left')\n",
    "# plt.grid(True)\n",
    "# plt.show()\n",
    "\n",
    "# plt.figure(figsize=(10, 8))\n",
    "# sns.scatterplot(x='tSNE1', y='tSNE2', data=summer_data, s=100, palette='tab10')\n",
    "# plt.title('PCA of Summer Fish ASVs')\n",
    "# plt.xlabel('PCA Component 1')\n",
    "# plt.ylabel('tSNE Component 2')\n",
    "# plt.legend(bbox_to_anchor=(1.05, 1), loc='upper left')\n",
    "# plt.grid(True)\n",
    "# plt.show()"
   ]
  },
  {
   "cell_type": "code",
   "execution_count": 19,
   "metadata": {},
   "outputs": [],
   "source": [
    "# Save data\n",
    "winter_data\n",
    "w_selected_columns = winter_data[['tSNE1', 'tSNE2', 'date']]\n",
    "w_selected_columns.to_csv('winter_tsne_latent_space.csv', index=False)\n",
    "\n",
    "spring_data\n",
    "sp_selected_columns = spring_data[['tSNE1', 'tSNE2', 'date']]\n",
    "sp_selected_columns.to_csv('spring_tsne_latent_space.csv', index=False)\n",
    "\n",
    "summer_data\n",
    "su_selected_columns = summer_data[['tSNE1', 'tSNE2', 'date']]\n",
    "su_selected_columns.to_csv('summer_tsne_latent_space.csv', index=False)"
   ]
  },
  {
   "cell_type": "code",
   "execution_count": 20,
   "metadata": {},
   "outputs": [],
   "source": [
    "# Extract species columns\n",
    "columns_to_remove = ['PCA1', 'PCA2', 'tSNE1', 'tSNE2']\n",
    "save_data = winter_data.drop(columns=columns_to_remove, errors='ignore')\n",
    "\n",
    "species_columns = save_data.columns[data.columns.get_loc(\"primers\") + 1:]\n",
    "\n",
    "# Convert relative abundance to presence/absence (1 if > 0, else 0)\n",
    "Data_presence = save_data[species_columns].applymap(lambda x: 1 if x > 0 else 0)\n",
    "\n",
    "# Export presence/absence data\n",
    "Data_presence.to_csv(\"winter_presence_absence_data.csv\", index=False)\n"
   ]
  },
  {
   "cell_type": "code",
   "execution_count": 21,
   "metadata": {},
   "outputs": [],
   "source": [
    "# Extract species columns\n",
    "columns_to_remove = ['PCA1', 'PCA2', 'tSNE1', 'tSNE2']\n",
    "save_data = spring_data.drop(columns=columns_to_remove, errors='ignore')\n",
    "\n",
    "species_columns = save_data.columns[data.columns.get_loc(\"primers\") + 1:]\n",
    "\n",
    "# Convert relative abundance to presence/absence (1 if > 0, else 0)\n",
    "Data_presence = save_data[species_columns].applymap(lambda x: 1 if x > 0 else 0)\n",
    "\n",
    "# Export presence/absence data\n",
    "Data_presence.to_csv(\"spring_presence_absence_data.csv\", index=False)"
   ]
  },
  {
   "cell_type": "code",
   "execution_count": 22,
   "metadata": {},
   "outputs": [],
   "source": [
    "# Extract species columns\n",
    "columns_to_remove = ['PCA1', 'PCA2', 'tSNE1', 'tSNE2']\n",
    "save_data = summer_data.drop(columns=columns_to_remove, errors='ignore')\n",
    "\n",
    "species_columns = save_data.columns[data.columns.get_loc(\"primers\") + 1:]\n",
    "\n",
    "# Convert relative abundance to presence/absence (1 if > 0, else 0)\n",
    "Data_presence = save_data[species_columns].applymap(lambda x: 1 if x > 0 else 0)\n",
    "\n",
    "# Export presence/absence data\n",
    "Data_presence.to_csv(\"summer_presence_absence_data.csv\", index=False)"
   ]
  },
  {
   "cell_type": "code",
   "execution_count": null,
   "metadata": {},
   "outputs": [],
   "source": []
  }
 ],
 "metadata": {
  "kernelspec": {
   "display_name": "Python 3",
   "language": "python",
   "name": "python3"
  },
  "language_info": {
   "codemirror_mode": {
    "name": "ipython",
    "version": 3
   },
   "file_extension": ".py",
   "mimetype": "text/x-python",
   "name": "python",
   "nbconvert_exporter": "python",
   "pygments_lexer": "ipython3",
   "version": "3.9.12"
  }
 },
 "nbformat": 4,
 "nbformat_minor": 2
}
